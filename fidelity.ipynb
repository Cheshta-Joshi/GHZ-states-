{
  "nbformat": 4,
  "nbformat_minor": 0,
  "metadata": {
    "colab": {
      "provenance": []
    },
    "kernelspec": {
      "name": "python3",
      "display_name": "Python 3"
    },
    "language_info": {
      "name": "python"
    }
  },
  "cells": [
    {
      "cell_type": "code",
      "execution_count": 1,
      "metadata": {
        "id": "3ywKzaxiZSIe"
      },
      "outputs": [],
      "source": [
        "!pip install qiskit \n",
        "!pip install qiskit-experiments\n",
        "!pip install matplotlib==3.1.3\n",
        "!pip install pylatexenc\n",
        "from IPython.display import clear_output\n",
        "clear_output(wait=False)"
      ]
    },
    {
      "cell_type": "code",
      "source": [
        "from qiskit import *\n",
        "import numpy as np\n",
        "import matplotlib.ticker as tck\n",
        "from qiskit.visualization import plot_state_city\n",
        "import qiskit.quantum_info as qi\n",
        "from qiskit_experiments.library import StateTomography\n",
        "import matplotlib.pyplot as plt\n",
        "\n",
        "# For simulation\n",
        "from qiskit.providers.aer import AerSimulator\n",
        "from qiskit.providers.fake_provider import FakeParis\n",
        "\n",
        "# Noisy simulator backend\n",
        "backend = AerSimulator.from_backend(FakeParis())"
      ],
      "metadata": {
        "id": "ihbe9t_EZaQa"
      },
      "execution_count": 2,
      "outputs": []
    },
    {
      "cell_type": "code",
      "source": [
        "phi = np.arange(0, 2 * np.pi, 0.2)\n",
        "theta = np.pi/2\n",
        "fid_list = []\n",
        "for angle in phi : \n",
        "  qc = QuantumCircuit(3)\n",
        "  qc.ry(theta, [0,1,2])\n",
        "  qc.p(angle - np.pi,1)\n",
        "  qc.cp(np.pi, [0,1], [1,2])\n",
        "  qc.ry(theta, [0,2])\n",
        "  qc.x(1)\n",
        "  #qc.draw()\n",
        "\n",
        "  # QST Experiment\n",
        "  qstexp1 = StateTomography(qc)\n",
        "  qstdata1 = qstexp1.run(backend, seed_simulation=100).block_for_results()\n",
        "  state_result = qstdata1.analysis_results(\"state\")\n",
        "  fid_result = qstdata1.analysis_results(\"state_fidelity\")\n",
        "  fid_list.append(fid_result.value)\n",
        "qc.draw(output='mpl')\n"
      ],
      "metadata": {
        "colab": {
          "base_uri": "https://localhost:8080/",
          "height": 185
        },
        "id": "G9zLvZw9Ze0-",
        "outputId": "70483f84-774b-4e2f-eb7d-98c99422d0b5"
      },
      "execution_count": 3,
      "outputs": [
        {
          "output_type": "execute_result",
          "data": {
            "text/plain": [
              "<Figure size 387.597x204.68 with 1 Axes>"
            ],
            "image/png": "[encoded data removed]"
          },
          "metadata": {},
          "execution_count": 3
        }
      ]
    },
    {
      "cell_type": "code",
      "source": [
        "w = [0.75] * len(phi)\n",
        "bi = [0.5] * len(phi)"
      ],
      "metadata": {
        "id": "cZ2Ioa7whZjz"
      },
      "execution_count": 4,
      "outputs": []
    },
    {
      "cell_type": "code",
      "source": [
        "f,ax=plt.subplots(figsize=(6,5))\n",
        "\n",
        "ax.plot(phi, fid_list, color='b',label='GHZ state')\n",
        "\n",
        "ax.xaxis.set_major_formatter(tck.FormatStrFormatter('%g $\\pi$'))\n",
        "ax.xaxis.set_major_locator(tck.MultipleLocator(base=1.0))\n",
        "\n",
        "plt.style.use(\"ggplot\")\n",
        "plt.plot(phi, w, color='g', label='W-state',linestyle='dotted')\n",
        "plt.plot(phi, bi, color='r', label='Biseparable state')\n",
        "plt.xlabel(\"Phi\")\n",
        "plt.ylabel(\"Fidelity\")\n",
        "plt.title(\"Fidelity of GHZ states for different phi\")\n",
        "  \n",
        "# Adding legend, which helps us recognize the curve according to it's color\n",
        "plt.legend()\n",
        "plt.ylim(0,1) \n",
        "plt.xlim(0, np.pi)\n",
        "\n",
        "plt.show()"
      ],
      "metadata": {
        "colab": {
          "base_uri": "https://localhost:8080/",
          "height": 353
        },
        "id": "WyK7VR92Z3QP",
        "outputId": "aaf0cfe4-e2bf-47f1-d016-65d04e738dd2"
      },
      "execution_count": 5,
      "outputs": [
        {
          "output_type": "display_data",
          "data": {
            "text/plain": [
              "<Figure size 432x360 with 1 Axes>"
            ],
            "image/png": "[encoded data removed]"
          },
          "metadata": {
            "needs_background": "light"
          }
        }
      ]
    }
  ]
}